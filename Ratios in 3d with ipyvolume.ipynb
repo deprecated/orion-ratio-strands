{
 "cells": [
  {
   "cell_type": "code",
   "execution_count": 1,
   "metadata": {},
   "outputs": [],
   "source": [
    "import ipyvolume as ipv"
   ]
  },
  {
   "cell_type": "code",
   "execution_count": 2,
   "metadata": {},
   "outputs": [],
   "source": [
    "import numpy as np"
   ]
  },
  {
   "cell_type": "code",
   "execution_count": 3,
   "metadata": {},
   "outputs": [],
   "source": [
    "from astropy.io import fits"
   ]
  },
  {
   "cell_type": "code",
   "execution_count": 32,
   "metadata": {},
   "outputs": [
    {
     "name": "stderr",
     "output_type": "stream",
     "text": [
      "/Users/will/anaconda/lib/python3.6/site-packages/numpy/lib/function_base.py:973: RuntimeWarning: invalid value encountered in greater_equal\n",
      "  not_smaller_than_edge = (sample[:, i] >= edges[i][-1])\n"
     ]
    }
   ],
   "source": [
    "hdu1 = fits.open('../Ratios-for-Alba/ratio-6583-6563.fits')[0]\n",
    "hdu2 = fits.open('../Ratios-for-Alba/ratio-5007-4861.fits')[0]\n",
    "hdu3 = fits.open('../Ratios-for-Alba/ratio-9069-6731.fits')[0]\n",
    "x = hdu1.data.ravel()\n",
    "y = hdu2.data.ravel() \n",
    "z = hdu3.data.ravel()\n",
    "\n",
    "xyzrange = [0.0, 0.7], [0.0, 5.0], [0, 25]\n",
    "H, edges = np.histogramdd(np.stack((x, y, z)).T, bins=[150, 150, 150], range=xyzrange)"
   ]
  },
  {
   "cell_type": "code",
   "execution_count": 33,
   "metadata": {
    "scrolled": false
   },
   "outputs": [
    {
     "name": "stderr",
     "output_type": "stream",
     "text": [
      "/Users/will/anaconda/lib/python3.6/site-packages/ipyvolume/serialize.py:81: RuntimeWarning: invalid value encountered in true_divide\n",
      "  gradient = gradient / np.sqrt(gradient[0]**2 + gradient[1]**2 + gradient[2]**2)\n"
     ]
    },
    {
     "data": {
      "application/vnd.jupyter.widget-view+json": {
       "model_id": "23458fa61d2d48f181a6befc8c9b6301",
       "version_major": 2,
       "version_minor": 0
      },
      "text/plain": [
       "VBox(children=(VBox(children=(HBox(children=(Label(value='levels:'), FloatSlider(value=0.08, max=1.0, step=0.0…"
      ]
     },
     "metadata": {},
     "output_type": "display_data"
    }
   ],
   "source": [
    "ipv.quickvolshow(H.T, lighting=True, level=[0.08, 0.2, 0.50], opacity=[0.04, 0.05, 0.10], level_width=0.05)"
   ]
  },
  {
   "cell_type": "code",
   "execution_count": 30,
   "metadata": {},
   "outputs": [
    {
     "name": "stderr",
     "output_type": "stream",
     "text": [
      "/Users/will/anaconda/lib/python3.6/site-packages/numpy/lib/function_base.py:973: RuntimeWarning: invalid value encountered in greater_equal\n",
      "  not_smaller_than_edge = (sample[:, i] >= edges[i][-1])\n"
     ]
    }
   ],
   "source": [
    "hdu1 = fits.open('../Ratios-for-Alba/ratio-6583-6563.fits')[0]\n",
    "hdu2 = fits.open('../Ratios-for-Alba/ratio-5007-4861.fits')[0]\n",
    "hdu3 = fits.open('../Ratios-for-Alba/ratio-7330-6583.fits')[0]\n",
    "x = hdu1.data.ravel()\n",
    "y = hdu2.data.ravel() \n",
    "z = hdu3.data.ravel()\n",
    "\n",
    "xyzrange = [0.0, 0.7], [0.0, 5.0], [0, 0.2]\n",
    "H, edges = np.histogramdd(np.stack((x, y, z)).T, bins=[150, 150, 150], range=xyzrange)"
   ]
  },
  {
   "cell_type": "code",
   "execution_count": 31,
   "metadata": {},
   "outputs": [
    {
     "name": "stderr",
     "output_type": "stream",
     "text": [
      "/Users/will/anaconda/lib/python3.6/site-packages/ipyvolume/serialize.py:81: RuntimeWarning: invalid value encountered in true_divide\n",
      "  gradient = gradient / np.sqrt(gradient[0]**2 + gradient[1]**2 + gradient[2]**2)\n"
     ]
    },
    {
     "data": {
      "application/vnd.jupyter.widget-view+json": {
       "model_id": "c2f7123e7e684e648133681672ec5473",
       "version_major": 2,
       "version_minor": 0
      },
      "text/plain": [
       "VBox(children=(VBox(children=(HBox(children=(Label(value='levels:'), FloatSlider(value=0.08, max=1.0, step=0.0…"
      ]
     },
     "metadata": {},
     "output_type": "display_data"
    }
   ],
   "source": [
    "ipv.quickvolshow(H.T, lighting=True, level=[0.08, 0.2, 0.50], opacity=[0.04, 0.05, 0.10], level_width=0.05)"
   ]
  },
  {
   "cell_type": "code",
   "execution_count": 20,
   "metadata": {},
   "outputs": [
    {
     "name": "stderr",
     "output_type": "stream",
     "text": [
      "/Users/will/anaconda/lib/python3.6/site-packages/numpy/lib/function_base.py:973: RuntimeWarning: invalid value encountered in greater_equal\n",
      "  not_smaller_than_edge = (sample[:, i] >= edges[i][-1])\n"
     ]
    }
   ],
   "source": [
    "hdu1 = fits.open('../Ratios-for-Alba/ratio-6583-6563.fits')[0]\n",
    "hdu2 = fits.open('../Ratios-for-Alba/ratio-5007-4861.fits')[0]\n",
    "hdu3 = fits.open('../Ratios-for-Alba/ratio-6716-6731.fits')[0]\n",
    "x = hdu1.data.ravel()\n",
    "y = hdu2.data.ravel() \n",
    "z = hdu3.data.ravel()\n",
    "\n",
    "xyzrange = [0.0, 0.7], [0.0, 5.0], [0, 1.6]\n",
    "H, edges = np.histogramdd(np.stack((x, y, z)).T, bins=[150, 150, 150], range=xyzrange)"
   ]
  },
  {
   "cell_type": "code",
   "execution_count": 21,
   "metadata": {},
   "outputs": [
    {
     "name": "stderr",
     "output_type": "stream",
     "text": [
      "/Users/will/anaconda/lib/python3.6/site-packages/ipyvolume/serialize.py:81: RuntimeWarning: invalid value encountered in true_divide\n",
      "  gradient = gradient / np.sqrt(gradient[0]**2 + gradient[1]**2 + gradient[2]**2)\n"
     ]
    },
    {
     "data": {
      "application/vnd.jupyter.widget-view+json": {
       "model_id": "c0857796f61247b8a256e018ca2948f1",
       "version_major": 2,
       "version_minor": 0
      },
      "text/plain": [
       "VBox(children=(VBox(children=(HBox(children=(Label(value='levels:'), FloatSlider(value=0.1, max=1.0, step=0.00…"
      ]
     },
     "metadata": {},
     "output_type": "display_data"
    }
   ],
   "source": [
    "ipv.quickvolshow(H.T, lighting=True)"
   ]
  },
  {
   "cell_type": "code",
   "execution_count": 26,
   "metadata": {},
   "outputs": [],
   "source": [
    "ipv.quickvolshow?"
   ]
  },
  {
   "cell_type": "code",
   "execution_count": null,
   "metadata": {},
   "outputs": [],
   "source": []
  }
 ],
 "metadata": {
  "kernelspec": {
   "display_name": "Python 3",
   "language": "python",
   "name": "python3"
  },
  "language_info": {
   "codemirror_mode": {
    "name": "ipython",
    "version": 3
   },
   "file_extension": ".py",
   "mimetype": "text/x-python",
   "name": "python",
   "nbconvert_exporter": "python",
   "pygments_lexer": "ipython3",
   "version": "3.6.3"
  },
  "main_language": "python"
 },
 "nbformat": 4,
 "nbformat_minor": 2
}
